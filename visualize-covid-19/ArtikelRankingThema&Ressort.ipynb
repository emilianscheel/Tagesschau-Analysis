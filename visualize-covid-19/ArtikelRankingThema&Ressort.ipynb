{
 "cells": [
  {
   "attachments": {},
   "cell_type": "markdown",
   "metadata": {},
   "source": [
    "## Importiere `pandas`, `matplotlib`"
   ]
  },
  {
   "cell_type": "code",
   "execution_count": 10,
   "metadata": {},
   "outputs": [],
   "source": [
    "import numpy as np\n",
    "import pandas as pd\n",
    "import matplotlib.pyplot as plt\n",
    "from matplotlib import style\n",
    "import json\n",
    "from datetime import datetime as dt\n",
    "import locale\n",
    "from scipy.interpolate import interp1d\n",
    "from configparser import ConfigParser\n",
    "from functions import *\n",
    "from matplotlib.patches import Patch"
   ]
  },
  {
   "attachments": {},
   "cell_type": "markdown",
   "metadata": {},
   "source": [
    "## Lade die Konfigurationen aus `config.ini`\n",
    "#### Definiere die Umgebung"
   ]
  },
  {
   "cell_type": "code",
   "execution_count": 11,
   "metadata": {},
   "outputs": [],
   "source": [
    "config = ConfigParser()\n",
    "files = config.read('config.ini')\n",
    "\n",
    "# Wechsel des plt.style per config.ini machbar.\n",
    "plt.style.use(config.get('theme', 'plt.style'))\n",
    "\n",
    "# Damit Daten mit den deutschen Begriffen für die Monat generiert werden.\n",
    "locale = locale.setlocale(locale.LC_TIME, \"de_DE\")"
   ]
  },
  {
   "cell_type": "code",
   "execution_count": 12,
   "metadata": {},
   "outputs": [],
   "source": [
    "env = 'test'\n",
    "database_file = config.get(env, 'database_file')\n",
    "date_begin = config.get(env, 'date_begin')\n",
    "date_end = config.get(env, 'date_end')\n",
    "dpi = config.get(env, 'dpi')"
   ]
  },
  {
   "cell_type": "code",
   "execution_count": 13,
   "metadata": {},
   "outputs": [],
   "source": [
    "df = pd.read_json(database_file)"
   ]
  },
  {
   "attachments": {},
   "cell_type": "markdown",
   "metadata": {},
   "source": [
    "#### Filter die Artikel nach: Sind zwischen dem und dem Datum veröffentlich worden."
   ]
  },
  {
   "cell_type": "code",
   "execution_count": 14,
   "metadata": {},
   "outputs": [],
   "source": [
    "df = df.loc[(df['date'] >= date_begin) & (df['date'] <= date_end)]"
   ]
  },
  {
   "cell_type": "code",
   "execution_count": 15,
   "metadata": {},
   "outputs": [],
   "source": [
    "df['date'] = pd.to_datetime(df['date'], utc=True)"
   ]
  },
  {
   "attachments": {},
   "cell_type": "markdown",
   "metadata": {},
   "source": [
    "#### Ändere die Spalte `ressort` zu einem Anfangsgroßbuchstaben"
   ]
  },
  {
   "cell_type": "code",
   "execution_count": 16,
   "metadata": {},
   "outputs": [],
   "source": [
    "df.ressort = df.ressort.str.title()"
   ]
  },
  {
   "attachments": {},
   "cell_type": "markdown",
   "metadata": {},
   "source": [
    "#### Füge ein neues Feature hinzu: Themengebiet"
   ]
  },
  {
   "cell_type": "code",
   "execution_count": 17,
   "metadata": {},
   "outputs": [],
   "source": [
    "topics = json.loads(open(\"topics/topics.json\", \"r\").read())\n",
    "\n",
    "df['tags_full'] = ['; '.join(tags) for tags in df['tags'].to_list()]\n",
    "\n",
    "for topic in topics:\n",
    "    df.loc[(df.title.str.contains('|'.join(topics[topic]['keywords'])) | df.tags_full.str.contains('|'.join(topics[topic]['keywords']))), 'topic'] = topics[topic]['name']"
   ]
  },
  {
   "attachments": {},
   "cell_type": "markdown",
   "metadata": {},
   "source": [
    "#### Fülle alle NaN Werte aus `rankings` mit einem leeren Array"
   ]
  },
  {
   "cell_type": "code",
   "execution_count": 18,
   "metadata": {},
   "outputs": [],
   "source": [
    "df['rankings'] = df['rankings'].fillna(\"[]\")"
   ]
  },
  {
   "attachments": {},
   "cell_type": "markdown",
   "metadata": {},
   "source": [
    "#### Füge ein neues Feature hinzu: Ranking besser als 5. Platz"
   ]
  },
  {
   "cell_type": "code",
   "execution_count": 19,
   "metadata": {},
   "outputs": [],
   "source": [
    "def high_ranking(x):\n",
    "    if (type(x) == list):\n",
    "        return any(ranking['score'] <= 5 for ranking in x)\n",
    "    return False\n",
    "\n",
    "df['high_ranking'] = df['rankings'].apply(high_ranking)"
   ]
  },
  {
   "attachments": {},
   "cell_type": "markdown",
   "metadata": {},
   "source": [
    "#### Filter die Artikel nach: Hohes Ranking vorhanden"
   ]
  },
  {
   "cell_type": "code",
   "execution_count": 20,
   "metadata": {},
   "outputs": [],
   "source": [
    "df = df.loc[df.high_ranking]"
   ]
  },
  {
   "attachments": {},
   "cell_type": "markdown",
   "metadata": {},
   "source": [
    "#### Gruppiere die Artikel nach: Themengebiet"
   ]
  },
  {
   "cell_type": "code",
   "execution_count": 21,
   "metadata": {},
   "outputs": [],
   "source": [
    "df_ressort = df.groupby([\"ressort\"]).size().reset_index(name='amount')\n",
    "df_ressort = df_ressort.rename(columns={'ressort': 'group'})\n",
    "\n",
    "df_ressort['color'] = \"#8ecae6\" # blue\n",
    "df_ressort['edgecolor'] = \"#219ebc\" # blue"
   ]
  },
  {
   "attachments": {},
   "cell_type": "markdown",
   "metadata": {},
   "source": [
    "#### Gruppiere die Artikel nach: Ressort"
   ]
  },
  {
   "cell_type": "code",
   "execution_count": 22,
   "metadata": {},
   "outputs": [],
   "source": [
    "df_topic = df.groupby([\"topic\"]).size().reset_index(name='amount')\n",
    "df_topic = df_topic.rename(columns={'topic': 'group'})\n",
    "\n",
    "df_topic['color'] = \"#f2cc8f\" # orange\n",
    "df_topic['edgecolor'] = \"#e07a5f\" # orange"
   ]
  },
  {
   "attachments": {},
   "cell_type": "markdown",
   "metadata": {},
   "source": [
    "#### Füge die beiden enstandenen Daten in einen `DataFrame`"
   ]
  },
  {
   "cell_type": "code",
   "execution_count": 23,
   "metadata": {},
   "outputs": [],
   "source": [
    "df = pd.concat([df_ressort, df_topic])"
   ]
  },
  {
   "attachments": {},
   "cell_type": "markdown",
   "metadata": {},
   "source": [
    "#### Sortiere die Artikel nach: Anzahl Top-Rankings (absteigend)"
   ]
  },
  {
   "cell_type": "code",
   "execution_count": 24,
   "metadata": {},
   "outputs": [],
   "source": [
    "df = df.sort_values(by='amount', ascending=False)"
   ]
  },
  {
   "cell_type": "code",
   "execution_count": 25,
   "metadata": {},
   "outputs": [
    {
     "data": {
      "image/png": "[encoded data removed]",
      "text/plain": [
       "<Figure size 640x480 with 1 Axes>"
      ]
     },
     "metadata": {},
     "output_type": "display_data"
    }
   ],
   "source": [
    "ax = df.plot(kind=\"barh\", x='group', y='amount', xlabel=\"Anzahl der Artikel\", ylabel=\"Themengebiet oder Ressort\", color=df.color, legend=False, edgecolor=df.edgecolor)\n",
    "\n",
    "legend_elements = [Patch(facecolor='#f2cc8f', edgecolor='#e07a5f', label='Themengebiet'), Patch(facecolor='#8ecae6', edgecolor='#219ebc', label='Ressort')]\n",
    "ax.legend(handles=legend_elements);\n",
    "\n",
    "ax.set_title('Anzahl der Artikel auf den ersten 5 Plätzen')\n",
    "ax.get_figure().savefig('figures/bar-ranking-ressort-topic.png', bbox_inches=\"tight\", dpi=float(dpi))"
   ]
  }
 ],
 "metadata": {
  "kernelspec": {
   "display_name": "Python 3",
   "language": "python",
   "name": "python3"
  },
  "language_info": {
   "codemirror_mode": {
    "name": "ipython",
    "version": 3
   },
   "file_extension": ".py",
   "mimetype": "text/x-python",
   "name": "python",
   "nbconvert_exporter": "python",
   "pygments_lexer": "ipython3",
   "version": "3.10.9 (main, Dec 15 2022, 17:11:09) [Clang 14.0.0 (clang-1400.0.29.202)]"
  },
  "orig_nbformat": 4,
  "vscode": {
   "interpreter": {
    "hash": "b0fa6594d8f4cbf19f97940f81e996739fb7646882a419484c72d19e05852a7e"
   }
  }
 },
 "nbformat": 4,
 "nbformat_minor": 2
}
